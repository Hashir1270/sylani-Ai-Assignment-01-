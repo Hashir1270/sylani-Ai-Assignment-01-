{
 "cells": [
  {
   "cell_type": "code",
   "execution_count": 11,
   "id": "8708de13",
   "metadata": {},
   "outputs": [
    {
     "name": "stdout",
     "output_type": "stream",
     "text": [
      "Enter username, email, or phone number: Hashir Ahmed\n",
      "Password: 123\n",
      "{'id': 1, 'name': 'Muhammad Hashir', 'u': 'Hashir Ahmed', 'email': 'hashirarain11@gmail.com', 'phone': '03306859887', 'p': '123'}\n"
     ]
    }
   ],
   "source": [
    "# create program where user can login with user/email/phone but password must be same\n",
    "data = [{'id':1,'name':\"Muhammad Hashir\",'u':'Hashir Ahmed','email':'hashirarain11@gmail.com','phone':'03306859887','p':'123'},]\n",
    "\n",
    "user = input(\"Enter username, email, or phone number: \")\n",
    "pas = input(\"Password: \")\n",
    "\n",
    "for d in data:\n",
    "    if user in [d['u'], d['email'], d['phone']] and d['p'] == pas:\n",
    "        print(d)\n",
    "        break\n",
    "    else:\n",
    "        print('Invalid user or password')"
   ]
  },
  {
   "cell_type": "code",
   "execution_count": null,
   "id": "724e1e31",
   "metadata": {},
   "outputs": [],
   "source": []
  },
  {
   "cell_type": "code",
   "execution_count": 12,
   "id": "0e08c407",
   "metadata": {},
   "outputs": [
    {
     "name": "stdout",
     "output_type": "stream",
     "text": [
      "Enter username, email, or phone number: hashirarain11@gmail.com\n",
      "Password: 123\n",
      "{'id': 1, 'name': 'Muhammad Hashir', 'u': 'Hashir Ahmed', 'email': 'hashirarain11@gmail.com', 'phone': '03306859887', 'p': '123'}\n"
     ]
    }
   ],
   "source": [
    "# create program where user can login with user/email/phone but password must be same\n",
    "data = [{'id':1,'name':\"Muhammad Hashir\",'u':'Hashir Ahmed','email':'hashirarain11@gmail.com','phone':'03306859887','p':'123'},]\n",
    "\n",
    "user = input(\"Enter username, email, or phone number: \")\n",
    "pas = input(\"Password: \")\n",
    "\n",
    "for d in data:\n",
    "    if user in [d['u'], d['email'], d['phone']] and d['p'] == pas:\n",
    "        print(d)\n",
    "        break\n",
    "    else:\n",
    "        print('Invalid user or password')"
   ]
  },
  {
   "cell_type": "code",
   "execution_count": 13,
   "id": "4866a75d",
   "metadata": {},
   "outputs": [
    {
     "name": "stdout",
     "output_type": "stream",
     "text": [
      "Enter username, email, or phone number: 03306859887\n",
      "Password: 123\n",
      "{'id': 1, 'name': 'Muhammad Hashir', 'u': 'Hashir Ahmed', 'email': 'hashirarain11@gmail.com', 'phone': '03306859887', 'p': '123'}\n"
     ]
    }
   ],
   "source": [
    "# create program where user can login with user/email/phone but password must be same\n",
    "data = [{'id':1,'name':\"Muhammad Hashir\",'u':'Hashir Ahmed','email':'hashirarain11@gmail.com','phone':'03306859887','p':'123'},]\n",
    "\n",
    "user = input(\"Enter username, email, or phone number: \")\n",
    "pas = input(\"Password: \")\n",
    "\n",
    "for d in data:\n",
    "    if user in [d['u'], d['email'], d['phone']] and d['p'] == pas:\n",
    "        print(d)\n",
    "        break\n",
    "    else:\n",
    "        print('Invalid user or password')"
   ]
  },
  {
   "cell_type": "code",
   "execution_count": 15,
   "id": "b8545afc",
   "metadata": {},
   "outputs": [
    {
     "name": "stdout",
     "output_type": "stream",
     "text": [
      "Enter username, email, or phone number: Hashir Ahmed\n",
      "Password: 4544\n",
      "Invalid user or password\n"
     ]
    }
   ],
   "source": [
    "# create program where user can login with user/email/phone but password must be same \n",
    "data = [{'id':1,'name':\"Muhammad Hashir\",'u':'Hashir Ahmed','email':'hashirarain11@gmail.com','phone':'03306859887','p':'123'},]\n",
    "\n",
    "user = input(\"Enter username, email, or phone number: \")\n",
    "pas = input(\"Password: \")\n",
    "\n",
    "for d in data:\n",
    "    if user in [d['u'], d['email'], d['phone']] and d['p'] == pas:\n",
    "        print(d)\n",
    "        break\n",
    "    else:\n",
    "        print('Invalid user or password')"
   ]
  },
  {
   "cell_type": "code",
   "execution_count": null,
   "id": "a2dc3e5f",
   "metadata": {},
   "outputs": [],
   "source": []
  }
 ],
 "metadata": {
  "kernelspec": {
   "display_name": "Python 3 (ipykernel)",
   "language": "python",
   "name": "python3"
  },
  "language_info": {
   "codemirror_mode": {
    "name": "ipython",
    "version": 3
   },
   "file_extension": ".py",
   "mimetype": "text/x-python",
   "name": "python",
   "nbconvert_exporter": "python",
   "pygments_lexer": "ipython3",
   "version": "3.9.13"
  }
 },
 "nbformat": 4,
 "nbformat_minor": 5
}
