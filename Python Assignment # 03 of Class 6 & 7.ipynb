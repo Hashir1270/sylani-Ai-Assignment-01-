{
 "cells": [
  {
   "cell_type": "markdown",
   "id": "1e955ada",
   "metadata": {},
   "source": [
    "# Assignment# 04 Python\n",
    "* Class 06 (Create Table)\n",
    "* Class 07 (create list of dictionary)"
   ]
  },
  {
   "cell_type": "markdown",
   "id": "2af33da7",
   "metadata": {},
   "source": [
    "# Assignment Class 06 (Create Table)\n",
    "* pass argument1 2 to n table will be generated\n",
    "* pass argument2 range of each table 1 to n\n"
   ]
  },
  {
   "cell_type": "code",
   "execution_count": 14,
   "id": "1a43d85d",
   "metadata": {},
   "outputs": [
    {
     "name": "stdout",
     "output_type": "stream",
     "text": [
      "2 X 1 = 2,  3 X 1 = 3,  4 X 1 = 4\n",
      "2 X 2 = 4,  3 X 2 = 6,  4 X 2 = 8\n",
      "2 X 3 = 6,  3 X 3 = 9,  4 X 3 = 12\n",
      "2 X 4 = 8,  3 X 4 = 12,  4 X 4 = 16\n",
      "2 X 5 = 10,  3 X 5 = 15,  4 X 5 = 20\n",
      "2 X 6 = 12,  3 X 6 = 18,  4 X 6 = 24\n",
      "2 X 7 = 14,  3 X 7 = 21,  4 X 7 = 28\n"
     ]
    }
   ],
   "source": [
    "Argument01 = 4\n",
    "Argument02 = 7\n",
    "\n",
    "for i in range(1,8):\n",
    "    [print(f\"{2} X {i} = {2*i},  {3} X {i} = {3*i},  {4} X {i} = {4*i}\")]\n",
    "    \n",
    "    "
   ]
  },
  {
   "cell_type": "markdown",
   "id": "d78e6d58",
   "metadata": {},
   "source": [
    "# Assignment Class 07 \n",
    "* create list of dictionary with (name,id,user,password,email,phone)\n",
    "* create program where user can login with user/email/phone but password must be same"
   ]
  },
  {
   "cell_type": "code",
   "execution_count": 15,
   "id": "8719d0d8",
   "metadata": {},
   "outputs": [
    {
     "name": "stdout",
     "output_type": "stream",
     "text": [
      "name --> Muhammad Hashir\n",
      "id --> 119859\n",
      "user --> Hashir_Ahmed\n",
      "password --> 9999\n",
      "email --> hashirarain11@gmail.com\n",
      "Phone --> 0330-6859887\n"
     ]
    }
   ],
   "source": [
    "# create list of dictionary with (name,id,user,password,email,phone)\n",
    "data = {\n",
    "    \"name\":\"Muhammad Hashir\",\n",
    "    \"id\": \"119859\",\n",
    "    'user': \"Hashir_Ahmed\",\n",
    "    'password': 9999,\n",
    "    'email' : 'hashirarain11@gmail.com',\n",
    "    'Phone': '0330-6859887',\n",
    "}\n",
    "\n",
    "for k in data.keys():\n",
    "    print(k, \"-->\", data[k])\n",
    "    "
   ]
  },
  {
   "cell_type": "code",
   "execution_count": 16,
   "id": "71e30de4",
   "metadata": {},
   "outputs": [
    {
     "name": "stdout",
     "output_type": "stream",
     "text": [
      "name Muhammad Hashir\n",
      "id 119859\n",
      "user Hashir_Ahmed\n",
      "password 9999\n",
      "email hashirarain11@gmail.com\n",
      "Phone 0330-6859887\n"
     ]
    }
   ],
   "source": [
    "for k,v in data.items():\n",
    "    print(k, v)"
   ]
  },
  {
   "cell_type": "code",
   "execution_count": 17,
   "id": "3e53df68",
   "metadata": {},
   "outputs": [
    {
     "data": {
      "text/plain": [
       "dict_items([('name', 'Muhammad Hashir'), ('id', '119859'), ('user', 'Hashir_Ahmed'), ('password', 9999), ('email', 'hashirarain11@gmail.com'), ('Phone', '0330-6859887')])"
      ]
     },
     "execution_count": 17,
     "metadata": {},
     "output_type": "execute_result"
    }
   ],
   "source": [
    "data.items()"
   ]
  },
  {
   "cell_type": "code",
   "execution_count": null,
   "id": "3d7bf5a8",
   "metadata": {},
   "outputs": [],
   "source": [
    "# create program where user can login with user/email/phone but password must be same\n",
    "data = [{'id':1,'name':\"Muhammad Qasim\",'u':'Qasim' or 'hashirarain11@gmail.com' or '03306859887','p':'123'},]\n",
    "\n",
    "user = input(\"Enter user Name\")\n",
    "pas = input(\"Password\")\n",
    "\n",
    "for d in data:\n",
    "    if d['u'] == user and d['p'] == pas:\n",
    "        print(d)\n",
    "        break\n",
    "    else:\n",
    "        print('Invalid user or password')"
   ]
  },
  {
   "cell_type": "code",
   "execution_count": null,
   "id": "40b1b905",
   "metadata": {},
   "outputs": [],
   "source": []
  },
  {
   "cell_type": "code",
   "execution_count": null,
   "id": "1d0f885d",
   "metadata": {},
   "outputs": [],
   "source": []
  },
  {
   "cell_type": "code",
   "execution_count": null,
   "id": "1ac781cc",
   "metadata": {},
   "outputs": [],
   "source": []
  }
 ],
 "metadata": {
  "kernelspec": {
   "display_name": "Python 3 (ipykernel)",
   "language": "python",
   "name": "python3"
  },
  "language_info": {
   "codemirror_mode": {
    "name": "ipython",
    "version": 3
   },
   "file_extension": ".py",
   "mimetype": "text/x-python",
   "name": "python",
   "nbconvert_exporter": "python",
   "pygments_lexer": "ipython3",
   "version": "3.9.13"
  }
 },
 "nbformat": 4,
 "nbformat_minor": 5
}
